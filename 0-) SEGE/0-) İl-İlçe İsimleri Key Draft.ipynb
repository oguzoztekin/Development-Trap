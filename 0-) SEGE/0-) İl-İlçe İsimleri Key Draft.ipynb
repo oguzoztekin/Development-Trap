{
 "cells": [
  {
   "cell_type": "code",
   "execution_count": 62,
   "metadata": {},
   "outputs": [],
   "source": [
    "## Gerekli Kütüphaneler\n",
    "import pandas as pd\n",
    "import numpy as np\n",
    "import warnings\n",
    "## Excel düzenlediğimiz için hata koduna ihtiyacımız yok\n",
    "warnings.filterwarnings('ignore')\n"
   ]
  },
  {
   "cell_type": "code",
   "execution_count": 63,
   "metadata": {},
   "outputs": [],
   "source": [
    "# Nüfus verisi düzenleme\n",
    "a = pd.read_csv('./İlçe_Nüfusları_ham.csv', sep='|')\n",
    "## Gereksiz kısımları sil\n",
    "a = a.iloc[5:,:3]\n",
    "## Sütun isimlerini düzelt\n",
    "a.columns = ['Key',2017,2022]\n",
    "## Replace NaN with 0\n",
    "a[2017] = a[2017].replace(np.nan,0)\n",
    "a[2022] = a[2022].replace(np.nan,0)\n",
    "## Dropna NA\n",
    "a = a.dropna().reset_index(drop=True)\n",
    "## İl-İlçe İsimleri\n",
    "a['İl'] = [zz.split('(')[0] for zz in a['Key']]\n",
    "a['İlçe'] = [zz.split('(')[1].split(')')[0] for zz in a['Key']]\n",
    "## Gerekli Sütunlar\n",
    "a = a[['İl','İlçe',2017,2022]]\n",
    "## Verileri sayıya çevirme\n",
    "a[2017] = [float(zz) for zz in a[2017]]\n",
    "a[2022] = [float(zz) for zz in a[2022]]"
   ]
  },
  {
   "cell_type": "code",
   "execution_count": 64,
   "metadata": {},
   "outputs": [],
   "source": [
    "## SEGE Verileri\n",
    "b = pd.read_excel('./SEGE_2017_ham.xlsx')\n",
    "b = b[['İl','İlçe Adı']]\n",
    "b.columns = ['İl','İlçe']\n",
    "\n",
    "c = pd.read_excel('./SEGE_2022_ham.xlsx')\n",
    "c = c[['İl','İlçe Adı']]\n",
    "c.columns = ['İl','İlçe']"
   ]
  },
  {
   "cell_type": "code",
   "execution_count": 65,
   "metadata": {},
   "outputs": [],
   "source": [
    "## Hepsini Birleştir\n",
    "key = pd.concat([a[['İl','İlçe']], b, c])\n",
    "## Bunu Elle düzelteceğiz çünkü daha kolay\n",
    "key.to_excel('İl_ilçe_adı_dict.xlsx', index=False)"
   ]
  }
 ],
 "metadata": {
  "kernelspec": {
   "display_name": "Python 3",
   "language": "python",
   "name": "python3"
  },
  "language_info": {
   "codemirror_mode": {
    "name": "ipython",
    "version": 3
   },
   "file_extension": ".py",
   "mimetype": "text/x-python",
   "name": "python",
   "nbconvert_exporter": "python",
   "pygments_lexer": "ipython3",
   "version": "3.11.2"
  }
 },
 "nbformat": 4,
 "nbformat_minor": 2
}
