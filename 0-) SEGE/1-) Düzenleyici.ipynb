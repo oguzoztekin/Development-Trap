{
 "cells": [
  {
   "cell_type": "code",
   "execution_count": 82,
   "metadata": {},
   "outputs": [],
   "source": [
    "## Gerekli Kütüphaneler\n",
    "import pandas as pd\n",
    "import numpy as np\n",
    "import warnings\n",
    "## Excel düzenlediğimiz için hata koduna ihtiyacımız yok\n",
    "warnings.filterwarnings('ignore')\n"
   ]
  },
  {
   "cell_type": "code",
   "execution_count": 83,
   "metadata": {},
   "outputs": [],
   "source": [
    "key = pd.read_excel('./İl_ilçe_adı_dict_2.xlsx')\n",
    "key = key.drop_duplicates().reset_index(drop=True)"
   ]
  },
  {
   "cell_type": "code",
   "execution_count": 84,
   "metadata": {},
   "outputs": [],
   "source": [
    "# Nüfus verisi düzenleme\n",
    "a = pd.read_csv('./İlçe_Nüfusları_ham.csv', sep='|')\n",
    "## Gereksiz kısımları sil\n",
    "a = a.iloc[5:,:3]\n",
    "## Sütun isimlerini düzelt\n",
    "a.columns = ['Key',2017,2022]\n",
    "## Replace NaN with 0\n",
    "a[2017] = a[2017].replace(np.nan,0)\n",
    "a[2022] = a[2022].replace(np.nan,0)\n",
    "## Dropna NA\n",
    "a = a.dropna().reset_index(drop=True)\n",
    "## İl-İlçe İsimleri\n",
    "a['İl'] = [zz.split('(')[0] for zz in a['Key']]\n",
    "a['İlçe'] = [zz.split('(')[1].split(')')[0] for zz in a['Key']]\n",
    "## Gerekli Sütunlar\n",
    "a = a[['İl','İlçe',2017,2022]]\n",
    "## Verileri sayıya çevirme\n",
    "a[2017] = [float(zz) for zz in a[2017]]\n",
    "a[2022] = [float(zz) for zz in a[2022]]\n",
    "## Merge with key\n",
    "a = a.merge(key, on =['İl','İlçe'] ,how='left')\n",
    "## Columns\n",
    "a = a[['ILADI','ILCEADI',2017,2022]]\n",
    "## Last Check\n",
    "a = a.drop_duplicates().reset_index(drop=True)"
   ]
  },
  {
   "cell_type": "code",
   "execution_count": 85,
   "metadata": {},
   "outputs": [],
   "source": [
    "## SEGE Verileri\n",
    "## 2017\n",
    "b = pd.read_excel('./SEGE_2017_ham.xlsx')\n",
    "b.columns = ['İl','İlçe','Skor 2017']\n",
    "## Merge with key\n",
    "b = b.merge(key, on =['İl','İlçe'] ,how='left')\n",
    "## Columns\n",
    "b = b[['ILADI','ILCEADI','Skor 2017']]\n",
    "\n",
    "## Adjust badly read scores\n",
    "val = list()\n",
    "for v in b['Skor 2017']:\n",
    "    try:\n",
    "        if v >= 1000 or v <= -1000:\n",
    "            val.append(v/1000)\n",
    "        else:\n",
    "            val.append(v)\n",
    "    except:\n",
    "        val.append(np.nan)\n",
    "b['Skor 2017'] = val\n",
    "\n",
    "## 2022\n",
    "c = pd.read_excel('./SEGE_2022_ham.xlsx')\n",
    "c.columns = ['İl','İlçe','Skor 2022']\n",
    "## Merge with key\n",
    "c = c.merge(key, on =['İl','İlçe'] ,how='left')\n",
    "## Columns\n",
    "c = c[['ILADI','ILCEADI','Skor 2022']]\n",
    "\n",
    "## Adjust badly read scores\n",
    "val = list()\n",
    "for v in c['Skor 2022']:\n",
    "    try:\n",
    "        if v >= 1000 or v <= -1000:\n",
    "            val.append(v/1000)\n",
    "        else:\n",
    "            val.append(v)\n",
    "    except:\n",
    "        val.append(np.nan)\n",
    "c['Skor 2022'] = val\n",
    "\n",
    "b = b.merge(c, how='outer')"
   ]
  },
  {
   "cell_type": "code",
   "execution_count": 86,
   "metadata": {},
   "outputs": [],
   "source": [
    "## Birleştirilmiş Sonuç\n",
    "df = a.merge(b, on = ['ILADI','ILCEADI'], how='outer')\n",
    "## Kaydet\n",
    "df.to_excel('Eşleştirilmiş.xlsx', index=False)\n"
   ]
  }
 ],
 "metadata": {
  "kernelspec": {
   "display_name": "Python 3",
   "language": "python",
   "name": "python3"
  },
  "language_info": {
   "codemirror_mode": {
    "name": "ipython",
    "version": 3
   },
   "file_extension": ".py",
   "mimetype": "text/x-python",
   "name": "python",
   "nbconvert_exporter": "python",
   "pygments_lexer": "ipython3",
   "version": "3.11.2"
  }
 },
 "nbformat": 4,
 "nbformat_minor": 2
}
