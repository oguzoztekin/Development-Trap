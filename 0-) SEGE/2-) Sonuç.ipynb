{
 "cells": [
  {
   "cell_type": "code",
   "execution_count": 27,
   "metadata": {},
   "outputs": [],
   "source": [
    "## Gerekli Kütüphaneler\n",
    "import pandas as pd\n",
    "import numpy as np\n",
    "import warnings\n",
    "## Excel düzenlediğimiz için hata koduna ihtiyacımız yok\n",
    "warnings.filterwarnings('ignore')\n"
   ]
  },
  {
   "cell_type": "code",
   "execution_count": 28,
   "metadata": {},
   "outputs": [],
   "source": [
    "## Veriyi Oku\n",
    "a = pd.read_excel('./Eşleştirilmiş_2.xlsx')\n",
    "\n",
    "## Skorları Oluştur\n",
    "a['p_17'] = a[2017]*a['Skor 2017']\n",
    "a['p_22'] = a[2022]*a['Skor 2022']\n",
    "\n",
    "# Groupby\n",
    "a = a.groupby('ILADI').sum().reset_index()\n",
    "\n",
    "## Il düzeyi Skorlar\n",
    "a['p_17'] = a['p_17']/a[2017]\n",
    "a['p_22'] = a['p_22']/a[2022]\n",
    "\n",
    "## Sonuçlar\n",
    "a = a[['ILADI','p_17','p_22']]"
   ]
  },
  {
   "cell_type": "code",
   "execution_count": 29,
   "metadata": {},
   "outputs": [],
   "source": [
    "a.to_excel('Sonuç.xlsx', index=False)"
   ]
  }
 ],
 "metadata": {
  "kernelspec": {
   "display_name": "Python 3",
   "language": "python",
   "name": "python3"
  },
  "language_info": {
   "codemirror_mode": {
    "name": "ipython",
    "version": 3
   },
   "file_extension": ".py",
   "mimetype": "text/x-python",
   "name": "python",
   "nbconvert_exporter": "python",
   "pygments_lexer": "ipython3",
   "version": "3.11.2"
  }
 },
 "nbformat": 4,
 "nbformat_minor": 2
}
